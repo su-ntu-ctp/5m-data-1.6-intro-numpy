{
 "cells": [
  {
   "cell_type": "markdown",
   "metadata": {},
   "source": [
    "\n",
    "### Loading dataset & Customer Demographics"
   ]
  },
  {
   "cell_type": "code",
   "execution_count": 23,
   "metadata": {},
   "outputs": [
    {
     "name": "stdout",
     "output_type": "stream",
     "text": [
      "mean[age, income, score] =  [38.85 60.56 50.2 ]\n",
      "min[age, income, score] =  [18 15  1]\n",
      "max[age, income, score] =  [ 70 137  99]\n",
      "Male average income= 62.23\n",
      "Female average income= 59.25\n",
      "Male earns MORE than female\n",
      "Male average spending score= 48.51\n",
      "Female average spending score= 51.53\n",
      "Female spends more than male\n"
     ]
    }
   ],
   "source": [
    "import numpy as np\n",
    "d = np.genfromtxt('Mall_Customers.csv', delimiter=',', skip_header=1, \n",
    "                     dtype=[('id',int),('gender','U6'),('age',int),('income',int),('score',int)])\n",
    "data = np.column_stack((d['id'],d['gender'], d['age'],d['income'],d['score']))\n",
    "\n",
    "print(\"mean[age, income, score] = \",np.mean(data[:,2:].astype(int), axis=0))\n",
    "print(\"min[age, income, score] = \",np.min(data[:,2:].astype(int), axis=0))\n",
    "print(\"max[age, income, score] = \",np.max(data[:,2:].astype(int), axis=0))\n",
    "\n",
    "avg_male_income = np.mean(data[data[:,1]=='Male'][:,3].astype(int)).round(2)\n",
    "avg_female_income=np.mean(data[data[:,1]=='Female'][:,3].astype(int)).round(2)\n",
    "\n",
    "print(\"Male average income=\",avg_male_income)\n",
    "print(\"Female average income=\",avg_female_income)\n",
    "print(\"Male earns MORE than female\" if avg_male_income > avg_female_income else \"Female earns MORE than male\")\n",
    "\n",
    "avg_male_spending_score = np.mean(data[data[:,1]=='Male'][:,-1].astype(int)).round(2)\n",
    "avg_female_spending_score= np.mean(data[data[:,1]=='Female'][:,-1].astype(int)).round(2)\n",
    "print(\"Male average spending score=\",avg_male_spending_score)\n",
    "print(\"Female average spending score=\",avg_female_spending_score)\n",
    "print(\"Male spends more than female\" if avg_male_spending_score > avg_female_spending_score else \"Female spends more than male\")\n",
    "\n"
   ]
  },
  {
   "cell_type": "markdown",
   "metadata": {},
   "source": [
    "### Identify high value customers"
   ]
  },
  {
   "cell_type": "code",
   "execution_count": 24,
   "metadata": {},
   "outputs": [
    {
     "name": "stdout",
     "output_type": "stream",
     "text": [
      "Avg income of customers whose Spending score > 80 =  69.07\n",
      "Number of male in top 10 is  5  and female is  5\n",
      "Males and females are equal in top10\n",
      "Min age for top10 is  18 Max age for top10 is  40 Avg age for top10 is  30.5\n"
     ]
    }
   ],
   "source": [
    "avg_income_score80= np.mean(data[data[:,-1].astype(int) > 80][:,3].astype(int)).round(2)\n",
    "print(\"Avg income of customers whose Spending score > 80 = \",avg_income_score80)\n",
    "\n",
    "\n",
    "top10 = data[data[:,4].argsort()][::-1][:10]\n",
    "top10_male= sum(top10[:,1]=='Male')\n",
    "top10_female = sum(top10[:,1]=='Female')\n",
    "print(\"Number of male in top 10 is \",top10_male ,\" and female is \",top10_female)\n",
    "print(\"Males are more in top10\" if top10_male > top10_female \n",
    "      else \"Males and females are equal in top10\" if top10_female == top10_male else \"Females are more in top10\" )\n",
    "print(\"Min age for top10 is \", np.min(top10[:,2].astype(int)),\n",
    "      \"Max age for top10 is \", np.max(top10[:,2].astype(int)),\n",
    "      \"Avg age for top10 is \", np.mean(top10[:,2].astype(int)))\n"
   ]
  },
  {
   "cell_type": "markdown",
   "metadata": {},
   "source": [
    "### Explore Relationships between features"
   ]
  },
  {
   "cell_type": "code",
   "execution_count": 25,
   "metadata": {},
   "outputs": [
    {
     "name": "stdout",
     "output_type": "stream",
     "text": [
      "Correlation between age and income is \n",
      " [[ 1.         -0.01239804]\n",
      " [-0.01239804  1.        ]]\n",
      "Correlation between age and spending score is \n",
      " [[ 1.         -0.32722685]\n",
      " [-0.32722685  1.        ]]\n",
      "Correlation between income and spending score is \n",
      " [[1.         0.00990285]\n",
      " [0.00990285 1.        ]]\n"
     ]
    }
   ],
   "source": [
    "corr_age_income = np.corrcoef(data[:,2].astype(int),data[:,3].astype(int))\n",
    "print(\"Correlation between age and income is \\n\",corr_age_income)\n",
    "\n",
    "corr_age_spendingscore = np.corrcoef(data[:,2].astype(int),data[:,4].astype(int))\n",
    "print(\"Correlation between age and spending score is \\n\",corr_age_spendingscore)\n",
    "\n",
    "\n",
    "corr_income_spendingscore = np.corrcoef(data[:,3].astype(int),data[:,4].astype(int))\n",
    "print(\"Correlation between income and spending score is \\n\",corr_income_spendingscore)\n",
    "\n"
   ]
  },
  {
   "cell_type": "markdown",
   "metadata": {},
   "source": [
    "### Customer Segmentation"
   ]
  },
  {
   "cell_type": "code",
   "execution_count": 26,
   "metadata": {},
   "outputs": [
    {
     "name": "stdout",
     "output_type": "stream",
     "text": [
      "Avg age  & income for  Low  spending score are  42.88  &  67.0  respectively\n",
      "Avg age  & income for  Medium  spending score are  42.01  &  53.86  respectively\n",
      "Avg age  & income for  high  spending score are  30.18  &  66.07  respectively\n"
     ]
    }
   ],
   "source": [
    "new_column = np.full((data.shape[0],1), '',dtype='<U6')\n",
    "new_column=np.where(data[:,4].astype(int) <=33 ,'Low', \n",
    "                    np.where(data[:,4].astype(int) <=66 , 'Medium', 'high'))\n",
    "data = np.column_stack((data,new_column))\n",
    "\n",
    "unique_value = np.unique(data[:,5])\n",
    "for i in unique_value:\n",
    "    group = data[data[:,5] == i]\n",
    "    group_mean_age, group_mean_income = np.mean(group[:,2].astype(int)).round(2), np.mean(group[:,3].astype(int)).round(2)\n",
    "    print(\"Avg age  & income for \",i, \" spending score are \", group_mean_age,\" & \", group_mean_income, \" respectively\")\n",
    "\n"
   ]
  }
 ],
 "metadata": {
  "kernelspec": {
   "display_name": "pds",
   "language": "python",
   "name": "python3"
  },
  "language_info": {
   "codemirror_mode": {
    "name": "ipython",
    "version": 3
   },
   "file_extension": ".py",
   "mimetype": "text/x-python",
   "name": "python",
   "nbconvert_exporter": "python",
   "pygments_lexer": "ipython3",
   "version": "3.10.16"
  }
 },
 "nbformat": 4,
 "nbformat_minor": 2
}
